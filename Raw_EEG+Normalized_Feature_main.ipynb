{
  "cells": [
    {
      "cell_type": "markdown",
      "metadata": {
        "id": "view-in-github",
        "colab_type": "text"
      },
      "source": [
        "<a href=\"https://colab.research.google.com/github/Mahmuda-104/A-Workout-Fitness-Web-App/blob/main/Raw_EEG%2BNormalized_Feature_main.ipynb\" target=\"_parent\"><img src=\"https://colab.research.google.com/assets/colab-badge.svg\" alt=\"Open In Colab\"/></a>"
      ]
    },
    {
      "cell_type": "code",
      "execution_count": 1,
      "metadata": {
        "id": "QdDQH_njzDCJ"
      },
      "outputs": [],
      "source": [
        "from google.colab import drive\n",
        "import os\n",
        "from scipy.io import loadmat"
      ]
    },
    {
      "cell_type": "code",
      "execution_count": 2,
      "metadata": {
        "colab": {
          "base_uri": "https://localhost:8080/"
        },
        "id": "L1La8re4zWFe",
        "outputId": "8cca87f8-ec0d-4711-8660-5f66e0690153"
      },
      "outputs": [
        {
          "output_type": "stream",
          "name": "stdout",
          "text": [
            "Mounted at /content/drive\n"
          ]
        }
      ],
      "source": [
        "drive.mount('/content/drive')"
      ]
    },
    {
      "cell_type": "code",
      "execution_count": 3,
      "metadata": {
        "id": "ROq8198wzWHF"
      },
      "outputs": [],
      "source": [
        "data_path = '/content/drive/My Drive/Data'"
      ]
    },
    {
      "cell_type": "code",
      "execution_count": 4,
      "metadata": {
        "colab": {
          "base_uri": "https://localhost:8080/"
        },
        "id": "NzRWUuE-zWKp",
        "outputId": "4ce3ec41-7108-423e-d23e-413c3f80e54d"
      },
      "outputs": [
        {
          "output_type": "stream",
          "name": "stdout",
          "text": [
            "(35, 60, 1000)\n"
          ]
        }
      ],
      "source": [
        "import os\n",
        "import scipy.io\n",
        "import numpy as np\n",
        "from scipy import signal\n",
        "fs_original = 500\n",
        "fs_new = 250\n",
        "\n",
        "control_data = []\n",
        "control_path = os.path.join(data_path, 'Control')\n",
        "for foldername in os.listdir(control_path):\n",
        "    subfolder_path = os.path.join(control_path, foldername)\n",
        "    control_data.append(subfolder_path)\n",
        "\n",
        "Control30 = []\n",
        "for control_data_path in control_data:\n",
        "    n_epochs = 35 #len([f for f in os.listdir(control_data_path) if f.endswith('.mat')])\n",
        "    control_arr = []\n",
        "    for i in range(1, n_epochs+1):\n",
        "        epoch_path = f\"{control_data_path}/trial{i}.mat\"\n",
        "        mat_data = scipy.io.loadmat(epoch_path)\n",
        "        mat_data1 = mat_data[\"trialData_i\"]\n",
        "        \n",
        "        # Downsampling\n",
        "        num_samples_original = mat_data1.shape[-1]\n",
        "        num_samples_new = int(num_samples_original * fs_new / fs_original)\n",
        "        downsampled_data = signal.resample(mat_data1, num_samples_new, axis=-1)\n",
        "        \n",
        "        control_arr.append(np.array(downsampled_data))\n",
        "        \n",
        "    Control30.append(np.array(control_arr))\n",
        "\n",
        "Control30 = np.array(Control30)\n",
        "print( Control30[0].shape)\n"
      ]
    },
    {
      "cell_type": "code",
      "execution_count": 5,
      "metadata": {
        "colab": {
          "base_uri": "https://localhost:8080/"
        },
        "id": "C-KOjAmZzWMZ",
        "outputId": "58b89826-88a0-4748-c432-17db3cada67c"
      },
      "outputs": [
        {
          "output_type": "stream",
          "name": "stdout",
          "text": [
            "(32, 35, 60, 1004)\n",
            "32\n"
          ]
        }
      ],
      "source": [
        "import numpy as np\n",
        "import json\n",
        "from sklearn.preprocessing import MinMaxScaler\n",
        "from google.colab import drive\n",
        "from scipy.stats import entropy\n",
        "\n",
        "delta_band = (0.5, 4)\n",
        "alpha_band = (8, 12)\n",
        "beta_band = (12, 35)\n",
        "\n",
        "all_control_power = []\n",
        "scaler = MinMaxScaler()\n",
        "epsilon = 1e-10\n",
        "\n",
        "# Normalizing the features within the range of the minimum and maximum values of the corresponding channel\n",
        "for i in range(len(Control30)):\n",
        "    control_data = Control30[i]\n",
        "    control_power = []\n",
        "    for epoch in control_data:\n",
        "        epoch_power = []\n",
        "        for channel_data in epoch:\n",
        "            freq_spectrum = np.fft.fft(channel_data)\n",
        "            power_spectrum = np.abs(freq_spectrum) ** 2\n",
        "\n",
        "            alpha_power = np.sum(power_spectrum[(alpha_band[0] <= freq_spectrum) & (freq_spectrum <= alpha_band[1])])\n",
        "            beta_power = np.sum(power_spectrum[(beta_band[0] <= freq_spectrum) & (freq_spectrum <= beta_band[1])])\n",
        "            delta_power = np.sum(power_spectrum[(delta_band[0] <= freq_spectrum) & (freq_spectrum <= delta_band[1])])\n",
        "\n",
        "            channel_min_value = np.min(channel_data)\n",
        "            channel_max_value = np.max(channel_data)\n",
        "\n",
        "            # alpha_power_normalized = (alpha_power - channel_min_value) / (4*((channel_max_value-channel_min_value) * (channel_max_value-channel_min_value )))\n",
        "            # beta_power_normalized = (beta_power - channel_min_value) /  (4*((channel_max_value-channel_min_value) * (channel_max_value-channel_min_value) ))\n",
        "            # delta_power_normalized = (delta_power - channel_min_value) /  (4*((channel_max_value-channel_min_value) * (channel_max_value-channel_min_value)))\n",
        "\n",
        "            power_spectrum_adjusted = power_spectrum + epsilon\n",
        "            entropy_values = entropy(power_spectrum_adjusted)\n",
        "            values=np.array([alpha_power,beta_power,delta_power,entropy_values])\n",
        "            rescaled_values = (values - values.min()) * (channel_max_value - channel_min_value) / (values.max() - values.min()) + channel_min_value\n",
        "            concatenated_data = np.concatenate((channel_data, rescaled_values))\n",
        "\n",
        "            #concatenated_data = np.concatenate((channel_data, [alpha_power_normalized, beta_power_normalized, delta_power_normalized, entropy_values]))\n",
        "            #print(alpha_power_normalized, beta_power_normalized, delta_power_normalized, entropy_values)\n",
        "            epoch_power.append(concatenated_data.tolist())\n",
        "\n",
        "        control_power.append(np.array(epoch_power))\n",
        "\n",
        "    all_control_power.append(np.array(control_power))\n",
        "\n",
        "all_control_power = np.array(all_control_power)\n",
        "print(all_control_power.shape)\n",
        "print(len(Control30))\n"
      ]
    },
    {
      "cell_type": "code",
      "execution_count": 6,
      "metadata": {
        "colab": {
          "base_uri": "https://localhost:8080/"
        },
        "id": "x4379MjPzWQI",
        "outputId": "60b14321-3384-48b6-dd2b-2d8e9c188583"
      },
      "outputs": [
        {
          "output_type": "stream",
          "name": "stdout",
          "text": [
            "(35, 60, 1000)\n"
          ]
        }
      ],
      "source": [
        "import os\n",
        "import scipy.io\n",
        "import numpy as np\n",
        "from scipy import signal\n",
        " \n",
        "fs_original = 500\n",
        "fs_new = 250  \n",
        "\n",
        "concussed_data = []\n",
        "concussed_path = os.path.join(data_path, 'Concussed')\n",
        "for foldername in os.listdir(concussed_path):\n",
        "    subfolder_path = os.path.join(concussed_path, foldername)\n",
        "    concussed_data.append(subfolder_path)\n",
        "\n",
        "Concussed52 = []\n",
        "for concussed_data_path in concussed_data:\n",
        "    n_epochs = 35 #len([f for f in os.listdir(control_data_path) if f.endswith('.mat')])\n",
        "    concussed_arr = []\n",
        "    for i in range(1, n_epochs+1):\n",
        "        epoch_path = f\"{concussed_data_path}/trial{i}.mat\"\n",
        "        mat_data = scipy.io.loadmat(epoch_path)\n",
        "        mat_data1 = mat_data[\"trialData_i\"]\n",
        "        \n",
        "        # Downsampling\n",
        "        num_samples_original = mat_data1.shape[-1]\n",
        "        num_samples_new = int(num_samples_original * fs_new / fs_original)\n",
        "        downsampled_data = signal.resample(mat_data1, num_samples_new, axis=-1)\n",
        "        \n",
        "        concussed_arr.append(np.array(downsampled_data))\n",
        "        \n",
        "    Concussed52.append(np.array(concussed_arr))\n",
        "\n",
        "Concussed52 = np.array(Concussed52)\n",
        "print( Concussed52[0].shape)\n"
      ]
    },
    {
      "cell_type": "code",
      "execution_count": 7,
      "metadata": {
        "colab": {
          "base_uri": "https://localhost:8080/"
        },
        "id": "yNlN51CPzWR6",
        "outputId": "9b56f520-6285-48b4-c6a6-5f4feacacb2f"
      },
      "outputs": [
        {
          "output_type": "stream",
          "name": "stdout",
          "text": [
            "(52, 35, 60, 1004)\n",
            "52\n"
          ]
        }
      ],
      "source": [
        "import numpy as np\n",
        "import json\n",
        "from sklearn.preprocessing import MinMaxScaler\n",
        "from google.colab import drive\n",
        "from scipy.stats import entropy\n",
        "\n",
        "delta_band = (0.5, 4)\n",
        "alpha_band = (8, 12)\n",
        "beta_band = (12, 35)\n",
        "\n",
        "all_concussed_power = []\n",
        "scaler = MinMaxScaler()\n",
        "epsilon = 1e-10\n",
        "\n",
        "# Normalizing the features within the range of the minimum and maximum values of the corresponding channel\n",
        "for i in range(len(Concussed52)):\n",
        "    concussed_data = Concussed52[i]\n",
        "    concussed_power = []\n",
        "    for epoch in concussed_data:\n",
        "        epoch_power = []\n",
        "        for channel_data in epoch:\n",
        "            freq_spectrum = np.fft.fft(channel_data)\n",
        "            power_spectrum = np.abs(freq_spectrum) ** 2\n",
        "\n",
        "            alpha_power = np.sum(power_spectrum[(alpha_band[0] <= freq_spectrum) & (freq_spectrum <= alpha_band[1])])\n",
        "            beta_power = np.sum(power_spectrum[(beta_band[0] <= freq_spectrum) & (freq_spectrum <= beta_band[1])])\n",
        "            delta_power = np.sum(power_spectrum[(delta_band[0] <= freq_spectrum) & (freq_spectrum <= delta_band[1])])\n",
        "\n",
        "            channel_min_value = np.min(channel_data)\n",
        "            channel_max_value = np.max(channel_data)\n",
        "\n",
        "            # alpha_power_normalized = (alpha_power - channel_min_value) / (4*((channel_max_value-channel_min_value) * (channel_max_value-channel_min_value )))\n",
        "            # beta_power_normalized = (beta_power - channel_min_value) /  (4*((channel_max_value-channel_min_value) * (channel_max_value-channel_min_value) ))\n",
        "            # delta_power_normalized = (delta_power - channel_min_value) /  (4*((channel_max_value-channel_min_value) * (channel_max_value-channel_min_value)))\n",
        "\n",
        "            power_spectrum_adjusted = power_spectrum + epsilon\n",
        "            entropy_values = entropy(power_spectrum_adjusted)\n",
        "            values=np.array([alpha_power,beta_power,delta_power,entropy_values])\n",
        "            rescaled_values = (values - values.min()) * (channel_max_value - channel_min_value) / (values.max() - values.min()) + channel_min_value\n",
        "            concatenated_data = np.concatenate((channel_data, rescaled_values))\n",
        "\n",
        "            #concatenated_data = np.concatenate((channel_data, [alpha_power_normalized, beta_power_normalized, delta_power_normalized, entropy_values]))\n",
        "            #print(alpha_power_normalized, beta_power_normalized, delta_power_normalized, entropy_values)\n",
        "            epoch_power.append(concatenated_data.tolist())\n",
        "\n",
        "        concussed_power.append(np.array(epoch_power))\n",
        "\n",
        "    all_concussed_power.append(np.array(concussed_power))\n",
        "\n",
        "all_concussed_power = np.array(all_concussed_power)\n",
        "print(all_concussed_power.shape)\n",
        "print(len(Concussed52))\n"
      ]
    },
    {
      "cell_type": "code",
      "execution_count": 8,
      "metadata": {
        "id": "MnGshZr9zWVr",
        "colab": {
          "base_uri": "https://localhost:8080/"
        },
        "outputId": "1fed1476-59cf-4b65-8411-82c219fbf8c5"
      },
      "outputs": [
        {
          "output_type": "stream",
          "name": "stdout",
          "text": [
            "(52, 35, 60, 1004)\n"
          ]
        }
      ],
      "source": [
        "#concussed_power=np.array(concussed_power)\n",
        "print(all_concussed_power.shape)"
      ]
    },
    {
      "cell_type": "code",
      "source": [
        "import numpy as np\n",
        "import tensorflow as tf\n",
        "from tensorflow.keras import layers\n",
        "\n",
        "dataset = np.concatenate((Control30, Concussed52), axis=0)\n",
        "labels = np.concatenate((np.zeros(len(Control30)), np.ones(len(Concussed52))))\n",
        "\n",
        "iteration = 5\n",
        "\n",
        "train_ratio = 0.8\n",
        "test_ratio = 0.2\n",
        "\n",
        "total_datasets = len(dataset)\n",
        "step_size = int((total_datasets - train_ratio * total_datasets) / (iteration - 1))\n",
        "test_accuracies = []\n",
        "for i in range(iteration):\n",
        "    start_idx = i * step_size\n",
        "    end_idx = int(start_idx + train_ratio * total_datasets)\n",
        "    X_train = dataset[start_idx:end_idx]\n",
        "    y_train = labels[start_idx:end_idx]\n",
        "    X_test = dataset[end_idx:]\n",
        "    y_test = labels[end_idx:]\n",
        "    input_shape = X_train.shape[1:]\n",
        "    X_train = X_train.reshape((-1,) + input_shape)\n",
        "    X_test = X_test.reshape((-1,) + input_shape)\n",
        "    print(\"Training data shape:\", X_train.shape)\n",
        "    print(\"Training labels shape:\", y_train.shape)\n",
        "    print(\"Testing data shape:\", X_test.shape)\n",
        "    print(\"Testing labels shape:\", y_test.shape)\n",
        "    model = tf.keras.Sequential()\n",
        "    model.add(layers.Conv2D(16, kernel_size=(6, 6), strides=2, activation='relu', padding='same', input_shape=input_shape))\n",
        "    model.add(layers.MaxPooling2D(pool_size=(2, 2)))\n",
        "    model.add(layers.Dropout(0.5))\n",
        "    model.add(layers.Conv2D(32, kernel_size=(3, 3), activation='relu', strides=1, padding='same'))\n",
        "    model.add(layers.MaxPooling2D(pool_size=(2, 2)))\n",
        "    model.add(layers.Dropout(0.5))\n",
        "    model.add(layers.Conv2D(64, kernel_size=(3, 3), activation='relu', strides=1, padding='same'))\n",
        "    model.add(layers.MaxPooling2D(pool_size=(2, 2)))\n",
        "    model.add(layers.Dropout(0.5))\n",
        "    model.add(layers.Flatten())\n",
        "    model.add(layers.Dense(256, activation='relu'))\n",
        "    model.add(layers.Dropout(0.5))\n",
        "    model.add(layers.Dense(2, activation='softmax'))\n",
        "\n",
        "    learning_rate = 0.005\n",
        "    optimizer = tf.keras.optimizers.Adam(learning_rate=learning_rate)\n",
        "    model.compile(optimizer=optimizer, loss='sparse_categorical_crossentropy', metrics=['accuracy'])\n",
        "    model.fit(X_train, y_train, epochs=100, batch_size=32, verbose=0)\n",
        "    test_loss, test_accuracy = model.evaluate(X_test, y_test)\n",
        "    print(\"Iteration:\", i+1)\n",
        "    print(\"Test Accuracy:\", test_accuracy)\n",
        "    test_accuracies.append(test_accuracy)\n",
        "\n",
        "mean_accuracy = np.mean(test_accuracies)\n",
        "std_accuracy = np.std(test_accuracies)\n",
        "print(\"Mean_Accuracy\",mean_accuracy)\n",
        "print(\"Std_Accuracy\",std_accuracy)\n"
      ],
      "metadata": {
        "colab": {
          "base_uri": "https://localhost:8080/"
        },
        "id": "AvX1pd9jUUvy",
        "outputId": "674713bc-9679-448f-a085-5fc4f18f0937"
      },
      "execution_count": 12,
      "outputs": [
        {
          "output_type": "stream",
          "name": "stdout",
          "text": [
            "Training data shape: (67, 35, 60, 1000)\n",
            "Training labels shape: (67,)\n",
            "Testing data shape: (17, 35, 60, 1000)\n",
            "Testing labels shape: (17,)\n",
            "1/1 [==============================] - 1s 594ms/step - loss: 0.6082 - accuracy: 1.0000\n",
            "Iteration: 1\n",
            "Test Accuracy: 1.0\n",
            "Training data shape: (67, 35, 60, 1000)\n",
            "Training labels shape: (67,)\n",
            "Testing data shape: (13, 35, 60, 1000)\n",
            "Testing labels shape: (13,)\n",
            "1/1 [==============================] - 0s 458ms/step - loss: 0.5482 - accuracy: 1.0000\n",
            "Iteration: 2\n",
            "Test Accuracy: 1.0\n",
            "Training data shape: (67, 35, 60, 1000)\n",
            "Training labels shape: (67,)\n",
            "Testing data shape: (9, 35, 60, 1000)\n",
            "Testing labels shape: (9,)\n",
            "1/1 [==============================] - 0s 464ms/step - loss: 0.7805 - accuracy: 0.7778\n",
            "Iteration: 3\n",
            "Test Accuracy: 0.7777777910232544\n",
            "Training data shape: (67, 35, 60, 1000)\n",
            "Training labels shape: (67,)\n",
            "Testing data shape: (5, 35, 60, 1000)\n",
            "Testing labels shape: (5,)\n",
            "1/1 [==============================] - 0s 384ms/step - loss: 5.9312 - accuracy: 0.4000\n",
            "Iteration: 4\n",
            "Test Accuracy: 0.4000000059604645\n",
            "Training data shape: (67, 35, 60, 1000)\n",
            "Training labels shape: (67,)\n",
            "Testing data shape: (1, 35, 60, 1000)\n",
            "Testing labels shape: (1,)\n"
          ]
        },
        {
          "output_type": "stream",
          "name": "stderr",
          "text": [
            "WARNING:tensorflow:5 out of the last 5 calls to <function Model.make_test_function.<locals>.test_function at 0x7f640b18ab00> triggered tf.function retracing. Tracing is expensive and the excessive number of tracings could be due to (1) creating @tf.function repeatedly in a loop, (2) passing tensors with different shapes, (3) passing Python objects instead of tensors. For (1), please define your @tf.function outside of the loop. For (2), @tf.function has reduce_retracing=True option that can avoid unnecessary retracing. For (3), please refer to https://www.tensorflow.org/guide/function#controlling_retracing and https://www.tensorflow.org/api_docs/python/tf/function for  more details.\n"
          ]
        },
        {
          "output_type": "stream",
          "name": "stdout",
          "text": [
            "1/1 [==============================] - 0s 359ms/step - loss: 0.4105 - accuracy: 1.0000\n",
            "Iteration: 5\n",
            "Test Accuracy: 1.0\n",
            "Mean_Accuracy 0.8355555593967438\n",
            "Std_Accuracy 0.23416781708140755\n"
          ]
        }
      ]
    },
    {
      "cell_type": "code",
      "execution_count": null,
      "metadata": {
        "id": "HkNvxqw-PqfS"
      },
      "outputs": [],
      "source": [
        "# import tensorflow as tf\n",
        "# from tensorflow.keras import layers\n",
        "# from tensorflow.keras.callbacks import EarlyStopping\n",
        "# import matplotlib.pyplot as plt\n",
        "\n",
        "# # Normalize the input data\n",
        "# # X_train = X_train / 255.0\n",
        "# # X_val = X_val / 255.0\n",
        "# # X_test = X_test / 255.0\n",
        "# input_shape = X_train.shape[1:]\n",
        "# # Build the CNN model\n",
        "# model = tf.keras.Sequential()\n",
        "# model.add(layers.Conv2D(16, kernel_size=(6, 6), strides=1, activation='relu', padding='same', input_shape=input_shape))\n",
        "# model.add(layers.MaxPooling2D(pool_size=(2, 2)))\n",
        "# model.add(layers.Dropout(0.5))\n",
        "# model.add(layers.Conv2D(32, kernel_size=(3, 3), activation='relu', strides=1, padding='same'))\n",
        "# model.add(layers.MaxPooling2D(pool_size=(2, 2)))\n",
        "# model.add(layers.Dropout(0.5))\n",
        "# model.add(layers.Conv2D(64, kernel_size=(3, 3), activation='relu', strides=1, padding='same'))\n",
        "# model.add(layers.MaxPooling2D(pool_size=(2, 2)))\n",
        "# model.add(layers.Dropout(0.5))\n",
        "# model.add(layers.Flatten())\n",
        "# model.add(layers.Dense(256, activation='relu'))\n",
        "# model.add(layers.Dropout(0.5))\n",
        "# model.add(layers.Dense(2, activation='softmax'))\n",
        "\n",
        "# learning_rate = 0.001\n",
        "# optimizer = tf.keras.optimizers.Adam(learning_rate=learning_rate)\n",
        "# model.compile(optimizer=optimizer, loss='sparse_categorical_crossentropy', metrics=['accuracy'])\n",
        "\n",
        "# # Define the early stopping callback\n",
        "# early_stopping = EarlyStopping(monitor='val_loss', patience=10, restore_best_weights=True)\n",
        "\n",
        "# # Train the model with early stopping\n",
        "# history = model.fit(X_train, y_train, validation_data=(X_val, y_val), epochs=100, batch_size=32, callbacks=[early_stopping])\n",
        "\n",
        "# # Evaluate the model on the test set\n",
        "# test_loss, test_accuracy = model.evaluate(X_test, y_test)\n",
        "# val_loss, val_accuracy = model.evaluate(X_val, y_val)\n",
        "\n",
        "# # Print the test accuracy\n",
        "# print(\"Test Accuracy:\", test_accuracy)\n",
        "\n",
        "# # Generate training and testing accuracy\n",
        "# training_accuracy = history.history['accuracy']\n",
        "# testing_accuracy = history.history['val_accuracy']\n",
        "\n",
        "# # Generate learning curve\n",
        "# training_loss = history.history['loss']\n",
        "# validation_loss = history.history['val_loss']\n",
        "\n",
        "# # Plot training and testing accuracy\n",
        "# plt.plot(training_accuracy, label='Training Accuracy')\n",
        "# plt.plot(testing_accuracy, label='Testing Accuracy')\n",
        "# plt.xlabel('Epochs')\n",
        "# plt.ylabel('Accuracy')\n",
        "# plt.legend()\n",
        "# plt.show()\n",
        "\n",
        "# # Plot learning curve\n",
        "# plt.plot(training_loss, label='Training Loss')\n",
        "# plt.plot(validation_loss, label='Validation Loss')\n",
        "# plt.xlabel('Epochs')\n",
        "# plt.ylabel('Loss')\n",
        "# plt.legend()\n",
        "# plt.show()\n"
      ]
    }
  ],
  "metadata": {
    "accelerator": "GPU",
    "colab": {
      "provenance": [],
      "authorship_tag": "ABX9TyNKG9uuXvLQOu5TOjkPaSF8",
      "include_colab_link": true
    },
    "kernelspec": {
      "display_name": "Python 3",
      "name": "python3"
    },
    "language_info": {
      "name": "python"
    }
  },
  "nbformat": 4,
  "nbformat_minor": 0
}